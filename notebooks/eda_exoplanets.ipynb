{
 "cells": [
  {
   "cell_type": "markdown",
   "id": "54dd8670",
   "metadata": {},
   "source": [
    "# Análisis exploratorio de exoplanetas (NASA Exoplanet Archive)\n",
    "\n",
    "Este análisis explora los datos de exoplanetas confirmados recopilados por la NASA.  \n",
    "Incluye limpieza, análisis descriptivo y visualizaciones para comprender patrones y relaciones."
   ]
  },
  {
   "cell_type": "code",
   "execution_count": null,
   "id": "c7132335",
   "metadata": {},
   "outputs": [],
   "source": [
    "import pandas as pd\n",
    "import numpy as np\n",
    "import seaborn as sns\n",
    "import matplotlib.pyplot as plt\n",
    "\n",
    "# Configuramos estilo de gráficos\n",
    "sns.set_theme(style=\"whitegrid\")"
   ]
  },
  {
   "cell_type": "markdown",
   "id": "f336e274",
   "metadata": {},
   "source": [
    "# Cargar el dataset\n",
    "\n",
    "Importamos el CSV descargado desde el NASA Exoplanet Archive."
   ]
  },
  {
   "cell_type": "code",
   "execution_count": null,
   "id": "641fb90d",
   "metadata": {},
   "outputs": [],
   "source": [
    "df = pd.read_csv(\"data/tablaexoplanetasnasa.csv\")"
   ]
  },
  {
   "cell_type": "markdown",
   "id": "52a171db",
   "metadata": {},
   "source": [
    "# Vista previa y estructura\n",
    "\n",
    "Echamos un vistazo a las primeras filas y a la estructura general del dataframe."
   ]
  },
  {
   "cell_type": "code",
   "execution_count": null,
   "id": "dc58f948",
   "metadata": {},
   "outputs": [],
   "source": [
    "df.head()"
   ]
  },
  {
   "cell_type": "code",
   "execution_count": null,
   "id": "67a3cab3",
   "metadata": {},
   "outputs": [],
   "source": [
    "df.info()"
   ]
  },
  {
   "cell_type": "code",
   "execution_count": null,
   "id": "38edf009",
   "metadata": {},
   "outputs": [],
   "source": [
    "df.describe()"
   ]
  },
  {
   "cell_type": "markdown",
   "id": "c9567d07",
   "metadata": {},
   "source": [
    "# Valores nulos\n",
    "\n",
    "Analizamos si hay datos faltantes para limpiar."
   ]
  },
  {
   "cell_type": "code",
   "execution_count": null,
   "id": "effbddb7",
   "metadata": {},
   "outputs": [],
   "source": [
    "df.isnull().sum().sort_values(ascending=False)"
   ]
  },
  {
   "cell_type": "markdown",
   "id": "a6f1df90",
   "metadata": {},
   "source": [
    "# Análisis de variables clave\n",
    "## 1. Distribución de masas planetarias (`pl_bmassj`)\n",
    "\n",
    "Analizamos la columna de masas planetarias en concreto."
   ]
  },
  {
   "cell_type": "code",
   "execution_count": null,
   "id": "952cba9c",
   "metadata": {},
   "outputs": [],
   "source": [
    "sns.histplot(df['pl_bmassj'].dropna(), kde=True)\n",
    "plt.title(\"Distribución de masas planetarias (MJ)\")\n",
    "plt.xlabel(\"Masa (en masas de Júpiter)\")\n",
    "plt.show()"
   ]
  },
  {
   "cell_type": "markdown",
   "id": "b559e8f6",
   "metadata": {},
   "source": [
    "## 2. Frecuencia de métodos de descubrimiento\n",
    "\n",
    "Vemos cuántos planetas se descubrieron con cada técnica."
   ]
  },
  {
   "cell_type": "code",
   "execution_count": null,
   "id": "a15d3f35",
   "metadata": {},
   "outputs": [],
   "source": [
    "sns.countplot(data=df, y='discoverymethod', order=df['discoverymethod'].value_counts().index)\n",
    "plt.title(\"Métodos de descubrimiento de exoplanetas\")\n",
    "plt.tight_layout()\n",
    "plt.show()"
   ]
  },
  {
   "cell_type": "markdown",
   "id": "478f8762",
   "metadata": {},
   "source": [
    "## 3. Relación entre período orbital (`pl_orbper`) y masa (`pl_bmassj`)\n",
    "\n",
    "Analizamos si hay relación entre la amsa de un planeta y el tiempo que tarde en orbitar su estrella."
   ]
  },
  {
   "cell_type": "code",
   "execution_count": null,
   "id": "f08e3652",
   "metadata": {},
   "outputs": [],
   "source": [
    "sns.scatterplot(data=df, x='pl_orbper', y='pl_bmassj', alpha=0.5)\n",
    "plt.xscale('log')\n",
    "plt.yscale('log')\n",
    "plt.title(\"Masa vs Período orbital\")\n",
    "plt.xlabel(\"Período orbital (días)\")\n",
    "plt.ylabel(\"Masa (MJ)\")\n",
    "plt.show()"
   ]
  },
  {
   "cell_type": "markdown",
   "id": "dfc3b2ec",
   "metadata": {},
   "source": [
    "# Conclusiones preliminares\n",
    "\n",
    "- La mayoría de los exoplanetas tienen masas inferiores a X MJ.\n",
    "- El método de tránsito es el más común para descubrimientos recientes.\n",
    "- Hay una correlación entre masa y período orbital en escala logarítmica."
   ]
  },
  {
   "cell_type": "markdown",
   "id": "27b2be51",
   "metadata": {},
   "source": [
    "# Limpieza y preprocesamiento\n",
    "\n",
    "- Eliminamos filas que no tienen masa planetaria (`pl_bmassj`) porque es una variable clave.  \n",
    "- Eliminamos columnas con más del 70% de valores nulos para mejorar calidad del análisis.  \n",
    "- Esto reduce el dataset, pero mejora la calidad para análisis posteriores."
   ]
  },
  {
   "cell_type": "code",
   "execution_count": null,
   "id": "f24fd1ac",
   "metadata": {},
   "outputs": [],
   "source": [
    "df_clean = df.dropna(subset=['pl_bmassj']).copy()\n",
    "cols_to_drop = [col for col in df_clean.columns if df_clean[col].isnull().mean() > 0.7]\n",
    "df_clean.drop(columns=cols_to_drop, inplace=True)\n",
    "\n",
    "print(f\"Filas originales: {len(df)}\")\n",
    "print(f\"Filas tras limpieza: {len(df_clean)}\")\n",
    "print(f\"Columnas eliminadas por muchos nulos: {cols_to_drop}\")"
   ]
  },
  {
   "cell_type": "markdown",
   "id": "a58fd073",
   "metadata": {},
   "source": [
    "## Análisis de correlaciones\n",
    "\n",
    "Mapa de calor que muestra la correlación entre variables numéricas.\n",
    "Valores cercanos a +-1 indican fuerte relación positiva o negativa."
   ]
  },
  {
   "cell_type": "code",
   "execution_count": null,
   "id": "709d40da",
   "metadata": {},
   "outputs": [],
   "source": [
    "num_df = df_clean.select_dtypes(include=[np.number])\n",
    "\n",
    "plt.figure(figsize=(12,10))\n",
    "sns.heatmap(num_df.corr(), annot=True, cmap='coolwarm', fmt=\".2f\")\n",
    "plt.title(\"Mapa de calor de correlaciones\")\n",
    "plt.show()"
   ]
  },
  {
   "cell_type": "markdown",
   "id": "ef29b938",
   "metadata": {},
   "source": [
    "## Evolución temporal o descubrimientos\n",
    "\n",
    "Número de exoplanetas descubiertos por año."
   ]
  },
  {
   "cell_type": "code",
   "execution_count": null,
   "id": "13c06009",
   "metadata": {},
   "outputs": [],
   "source": [
    "plt.figure(figsize=(14,6))\n",
    "sns.countplot(x='disc_year', data=df_clean)\n",
    "plt.xticks(rotation=90)\n",
    "plt.title(\"Número de descubrimientos por año\")\n",
    "plt.show()"
   ]
  },
  {
   "cell_type": "markdown",
   "id": "0f6b72cf",
   "metadata": {},
   "source": [
    "## Distribución de masa planetaria según método de descubrimiento\n",
    "\n",
    "Comparación de la masa planetaria detectada según el método."
   ]
  },
  {
   "cell_type": "code",
   "execution_count": null,
   "id": "eab8312f",
   "metadata": {},
   "outputs": [],
   "source": [
    "plt.figure(figsize=(14,7))\n",
    "sns.boxplot(x='discoverymethod', y='pl_bmassj', data=df_clean)\n",
    "plt.xticks(rotation=90)\n",
    "plt.title(\"Distribución de masa por método de descubrimiento\")\n",
    "plt.show()"
   ]
  }
 ],
 "metadata": {
  "kernelspec": {
   "display_name": "venv",
   "language": "python",
   "name": "python3"
  },
  "language_info": {
   "name": "python",
   "version": "3.11.0"
  }
 },
 "nbformat": 4,
 "nbformat_minor": 5
}
